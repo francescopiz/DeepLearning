{
 "cells": [
  {
   "cell_type": "markdown",
   "id": "7a5d0167",
   "metadata": {},
   "source": [
    "In this first example we will create a RNN whose task is to predict if there is an intrusion in a sequence of events.\n"
   ]
  },
  {
   "cell_type": "code",
   "execution_count": 2,
   "id": "3638a714",
   "metadata": {},
   "outputs": [
    {
     "name": "stderr",
     "output_type": "stream",
     "text": [
      "2025-07-06 15:50:01.593305: I tensorflow/core/util/port.cc:153] oneDNN custom operations are on. You may see slightly different numerical results due to floating-point round-off errors from different computation orders. To turn them off, set the environment variable `TF_ENABLE_ONEDNN_OPTS=0`.\n",
      "2025-07-06 15:50:01.611239: I external/local_xla/xla/tsl/cuda/cudart_stub.cc:32] Could not find cuda drivers on your machine, GPU will not be used.\n",
      "2025-07-06 15:50:01.737294: I external/local_xla/xla/tsl/cuda/cudart_stub.cc:32] Could not find cuda drivers on your machine, GPU will not be used.\n",
      "2025-07-06 15:50:01.836750: E external/local_xla/xla/stream_executor/cuda/cuda_fft.cc:467] Unable to register cuFFT factory: Attempting to register factory for plugin cuFFT when one has already been registered\n",
      "WARNING: All log messages before absl::InitializeLog() is called are written to STDERR\n",
      "E0000 00:00:1751809801.933363   27115 cuda_dnn.cc:8579] Unable to register cuDNN factory: Attempting to register factory for plugin cuDNN when one has already been registered\n",
      "E0000 00:00:1751809801.965451   27115 cuda_blas.cc:1407] Unable to register cuBLAS factory: Attempting to register factory for plugin cuBLAS when one has already been registered\n",
      "W0000 00:00:1751809802.192742   27115 computation_placer.cc:177] computation placer already registered. Please check linkage and avoid linking the same target more than once.\n",
      "W0000 00:00:1751809802.192790   27115 computation_placer.cc:177] computation placer already registered. Please check linkage and avoid linking the same target more than once.\n",
      "W0000 00:00:1751809802.192792   27115 computation_placer.cc:177] computation placer already registered. Please check linkage and avoid linking the same target more than once.\n",
      "W0000 00:00:1751809802.192793   27115 computation_placer.cc:177] computation placer already registered. Please check linkage and avoid linking the same target more than once.\n",
      "2025-07-06 15:50:02.213179: I tensorflow/core/platform/cpu_feature_guard.cc:210] This TensorFlow binary is optimized to use available CPU instructions in performance-critical operations.\n",
      "To enable the following instructions: AVX2 AVX_VNNI AVX_VNNI_INT8 AVX_NE_CONVERT FMA, in other operations, rebuild TensorFlow with the appropriate compiler flags.\n"
     ]
    }
   ],
   "source": [
    "import pandas as pd\n",
    "from sklearn.model_selection import train_test_split\n",
    "from sklearn.preprocessing import StandardScaler\n",
    "from keras.models import Sequential\n",
    "from keras.layers import SimpleRNN, Dense, Dropout\n",
    "import numpy as np\n",
    "from sklearn.impute import SimpleImputer\n",
    "import tensorflow as tf\n",
    "import os\n",
    "# Load the dataset from folder ../Dataset and merge all CSV files\n",
    "\n",
    "files = [file for file in os.listdir('../Dataset') if file.endswith('.csv')] \n",
    "data = pd.concat(\n",
    "    [pd.read_csv(f'../Dataset/{file}') for file in files]\n",
    ")\n",
    "\n",
    "\n"
   ]
  },
  {
   "cell_type": "markdown",
   "id": "15538f2e",
   "metadata": {},
   "source": [
    "Now we will analyse a bit the dataset we are going to use. The dataset is a csv file that contains network traffic data, with each row representing a network connection and its features.\n",
    "The dataset has also a label that indicates if the connection is normal or if it is an intrusion. The label is in the last column of the dataset."
   ]
  },
  {
   "cell_type": "code",
   "execution_count": 3,
   "id": "2359626a",
   "metadata": {},
   "outputs": [
    {
     "data": {
      "text/plain": [
       "array(['BENIGN', 'FTP-Patator', 'SSH-Patator', 'DDoS',\n",
       "       'Web Attack � Brute Force', 'Web Attack � XSS',\n",
       "       'Web Attack � Sql Injection', 'PortScan', 'DoS slowloris',\n",
       "       'DoS Slowhttptest', 'DoS Hulk', 'DoS GoldenEye', 'Heartbleed',\n",
       "       'Infiltration', 'Bot'], dtype=object)"
      ]
     },
     "execution_count": 3,
     "metadata": {},
     "output_type": "execute_result"
    }
   ],
   "source": [
    "data[\" Label\"].unique()"
   ]
  },
  {
   "cell_type": "markdown",
   "id": "ca33d9ca",
   "metadata": {},
   "source": [
    "We have to clean the dataset due to the presence of NaN values and infinite values. We will use a strategy that replaces infinite values with NaN and then imputes the NaN values with the median of the column.\n",
    "We will use the `SimpleImputer` class from the `sklearn.impute` module"
   ]
  },
  {
   "cell_type": "code",
   "execution_count": null,
   "id": "ad1b8438",
   "metadata": {},
   "outputs": [
    {
     "ename": "NameError",
     "evalue": "name 'data' is not defined",
     "output_type": "error",
     "traceback": [
      "\u001b[31m---------------------------------------------------------------------------\u001b[39m",
      "\u001b[31mNameError\u001b[39m                                 Traceback (most recent call last)",
      "\u001b[36mCell\u001b[39m\u001b[36m \u001b[39m\u001b[32mIn[1]\u001b[39m\u001b[32m, line 1\u001b[39m\n\u001b[32m----> \u001b[39m\u001b[32m1\u001b[39m feature_columns = \u001b[43mdata\u001b[49m.drop(columns=[\u001b[33m\"\u001b[39m\u001b[33m Label\u001b[39m\u001b[33m\"\u001b[39m]).columns\n\u001b[32m      2\u001b[39m data[feature_columns] = data[feature_columns].replace([np.inf, -np.inf], np.nan)\n\u001b[32m      4\u001b[39m X_temp = data.drop(columns=[\u001b[33m\"\u001b[39m\u001b[33m Label\u001b[39m\u001b[33m\"\u001b[39m])\n",
      "\u001b[31mNameError\u001b[39m: name 'data' is not defined"
     ]
    }
   ],
   "source": [
    "feature_columns = data.drop(columns=[\" Label\"]).columns\n",
    "data[feature_columns] = data[feature_columns].replace([np.inf, -np.inf], np.nan)\n",
    "\n",
    "X_temp = data.drop(columns=[\" Label\"])\n",
    "y_temp = data[\" Label\"]\n",
    "\n",
    "imputer = SimpleImputer(strategy='median')\n",
    "X_imputed = pd.DataFrame(\n",
    "    imputer.fit_transform(X_temp), \n",
    "    columns=X_temp.columns, \n",
    "    index=X_temp.index\n",
    ")\n",
    "\n",
    "data = X_imputed\n",
    "data[\" Label\"] = y_temp\n",
    "\n",
    "data = data.drop(columns=[\" Label\"])\n",
    "data[\" Label\"] = data[\" Label\"].replace({\n",
    "    \"BENIGN\": 0,\n",
    "    \"FTP-Patator\": 1,\n",
    "    \"SSH-Patator\": 2,\n",
    "    \"DDoS\": 3,\n",
    "    \"Web Attack � Brute Force\": 4,\n",
    "    \"Web Attack � XSS\": 5,\n",
    "    \"Web Attack � Sql Injection\": 6,\n",
    "    \"PortScan\": 7,\n",
    "    \"DoS slowloris\": 8,\n",
    "    \"DoS Slowhttptest\": 9,\n",
    "    \"DoS Hulk\": 10,\n",
    "    \"DoS GoldenEye\": 11,\n",
    "    \"Heartbleed\": 12,\n",
    "    \"Infiltration\": 13,\n",
    "    \"Bot\": 14\n",
    "})"
   ]
  },
  {
   "cell_type": "code",
   "execution_count": null,
   "id": "186662f1",
   "metadata": {},
   "outputs": [
    {
     "name": "stdout",
     "output_type": "stream",
     "text": [
      "Distribuzione delle classi:\n",
      " Label\n",
      "1    128027\n",
      "0     97718\n",
      "Name: count, dtype: int64\n",
      "\n",
      "Percentuale di classe 0 (attacchi): 0.4329\n",
      "Percentuale di classe 1 (BENIGN): 0.5671\n",
      "\n",
      "Shape del dataset: (225745, 79)\n",
      "Numero di features: 78\n"
     ]
    }
   ],
   "source": [
    "# Analizziamo il bilanciamento delle classi\n",
    "print(\"Distribuzione delle classi:\")\n",
    "print(data[\" Label\"].value_counts())\n",
    "print(f\"\\nPercentuale di classe 0 (attacchi): {(data[' Label'] == 0).mean():.4f}\")\n",
    "print(f\"Percentuale di classe 1 (BENIGN): {(data[' Label'] == 1).mean():.4f}\")\n",
    "print(f\"\\nShape del dataset: {data.shape}\")\n",
    "print(f\"Numero di features: {data.shape[1] - 1}\")  # -1 per escludere la label"
   ]
  },
  {
   "cell_type": "markdown",
   "id": "658dab32",
   "metadata": {},
   "source": [
    "Now we split the dataset into training and testing sets."
   ]
  },
  {
   "cell_type": "code",
   "execution_count": null,
   "id": "46d90693",
   "metadata": {},
   "outputs": [
    {
     "name": "stdout",
     "output_type": "stream",
     "text": [
      "Epoch 1/2\n"
     ]
    },
    {
     "name": "stderr",
     "output_type": "stream",
     "text": [
      "/home/fede/py/michela/DeepLearning/.venv/lib/python3.12/site-packages/keras/src/layers/rnn/rnn.py:199: UserWarning: Do not pass an `input_shape`/`input_dim` argument to a layer. When using Sequential models, prefer using an `Input(shape)` object as the first layer in the model instead.\n",
      "  super().__init__(**kwargs)\n"
     ]
    },
    {
     "name": "stdout",
     "output_type": "stream",
     "text": [
      "\u001b[1m1/1\u001b[0m \u001b[32m━━━━━━━━━━━━━━━━━━━━\u001b[0m\u001b[37m\u001b[0m \u001b[1m1s\u001b[0m 1s/step - accuracy: 0.8636 - loss: 0.9822 - val_accuracy: 0.8698 - val_loss: 0.4729\n",
      "Epoch 2/2\n",
      "\u001b[1m1/1\u001b[0m \u001b[32m━━━━━━━━━━━━━━━━━━━━\u001b[0m\u001b[37m\u001b[0m \u001b[1m1s\u001b[0m 1s/step - accuracy: 0.8636 - loss: 0.9822 - val_accuracy: 0.8698 - val_loss: 0.4729\n",
      "Epoch 2/2\n",
      "\u001b[1m1/1\u001b[0m \u001b[32m━━━━━━━━━━━━━━━━━━━━\u001b[0m\u001b[37m\u001b[0m \u001b[1m0s\u001b[0m 125ms/step - accuracy: 0.8182 - loss: 1.0819 - val_accuracy: 0.8899 - val_loss: 0.4577\n",
      "\u001b[1m1/1\u001b[0m \u001b[32m━━━━━━━━━━━━━━━━━━━━\u001b[0m\u001b[37m\u001b[0m \u001b[1m0s\u001b[0m 125ms/step - accuracy: 0.8182 - loss: 1.0819 - val_accuracy: 0.8899 - val_loss: 0.4577\n",
      "\u001b[1m6984/6984\u001b[0m \u001b[32m━━━━━━━━━━━━━━━━━━━━\u001b[0m\u001b[37m\u001b[0m \u001b[1m9s\u001b[0m 1ms/step - accuracy: 0.8833 - loss: 0.4982\n",
      "\u001b[1m6984/6984\u001b[0m \u001b[32m━━━━━━━━━━━━━━━━━━━━\u001b[0m\u001b[37m\u001b[0m \u001b[1m9s\u001b[0m 1ms/step - accuracy: 0.8833 - loss: 0.4982\n",
      "Test Loss: 0.49922066926956177, Test Accuracy: 0.8826693296432495\n",
      "Test Loss: 0.49922066926956177, Test Accuracy: 0.8826693296432495\n"
     ]
    }
   ],
   "source": [
    "X = data.drop(columns=[\" Label\"])\n",
    "y = data[\" Label\"]\n",
    "\n",
    "X_train, X_test, y_train, y_test = train_test_split(X, y, test_size=0.2, random_state=42)\n",
    "\n",
    "scaler = StandardScaler()\n",
    "X_train = scaler.fit_transform(X_train)\n",
    "X_test = scaler.transform(X_test)\n",
    "X_train = X_train.reshape((X_train.shape[0], 1, X_train.shape[1]))\n",
    "X_test = X_test.reshape((X_test.shape[0], 1, X_test.shape[1]))\n",
    "model = Sequential()\n",
    "model.add(SimpleRNN(50, activation='relu', input_shape=(X_train.shape[\n",
    "1], X_train.shape[2])))\n",
    "model.add(Dropout(0.2))\n",
    "model.add(Dense(1, activation='sigmoid'))\n",
    "# Compile the model\n",
    "model.compile(optimizer='adam', loss='binary_crossentropy', metrics=['accuracy'])\n",
    "# Train the model\n",
    "model.fit(X_train, y_train,\n",
    "            epochs=2,\n",
    "            batch_size=64,\n",
    "            validation_split=0.2\n",
    ")\n",
    "# Evaluate the model\n",
    "loss, accuracy = model.evaluate(X_test, y_test)\n",
    "\n",
    "# Save the model\n",
    "model.save('intrusion_detection_rnn.keras')"
   ]
  }
 ],
 "metadata": {
  "kernelspec": {
   "display_name": ".venv",
   "language": "python",
   "name": "python3"
  },
  "language_info": {
   "codemirror_mode": {
    "name": "ipython",
    "version": 3
   },
   "file_extension": ".py",
   "mimetype": "text/x-python",
   "name": "python",
   "nbconvert_exporter": "python",
   "pygments_lexer": "ipython3",
   "version": "3.12.3"
  }
 },
 "nbformat": 4,
 "nbformat_minor": 5
}
