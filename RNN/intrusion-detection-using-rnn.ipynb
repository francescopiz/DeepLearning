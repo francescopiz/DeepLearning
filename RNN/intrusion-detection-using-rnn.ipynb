{
 "cells": [
  {
   "cell_type": "markdown",
   "id": "7a5d0167",
   "metadata": {},
   "source": [
    "In this first example we will create a RNN whose task is to predict if there is an intrusion in a sequence of events.\n"
   ]
  },
  {
   "cell_type": "code",
   "execution_count": 2,
   "id": "3638a714",
   "metadata": {},
   "outputs": [
    {
     "name": "stderr",
     "output_type": "stream",
     "text": [
      "2025-07-22 19:15:53.720352: I tensorflow/core/util/port.cc:153] oneDNN custom operations are on. You may see slightly different numerical results due to floating-point round-off errors from different computation orders. To turn them off, set the environment variable `TF_ENABLE_ONEDNN_OPTS=0`.\n",
      "2025-07-22 19:15:53.747108: I external/local_xla/xla/tsl/cuda/cudart_stub.cc:32] Could not find cuda drivers on your machine, GPU will not be used.\n",
      "2025-07-22 19:15:53.937064: I external/local_xla/xla/tsl/cuda/cudart_stub.cc:32] Could not find cuda drivers on your machine, GPU will not be used.\n",
      "2025-07-22 19:15:54.114730: E external/local_xla/xla/stream_executor/cuda/cuda_fft.cc:467] Unable to register cuFFT factory: Attempting to register factory for plugin cuFFT when one has already been registered\n",
      "WARNING: All log messages before absl::InitializeLog() is called are written to STDERR\n",
      "E0000 00:00:1753204554.326585   44241 cuda_dnn.cc:8579] Unable to register cuDNN factory: Attempting to register factory for plugin cuDNN when one has already been registered\n",
      "E0000 00:00:1753204554.389241   44241 cuda_blas.cc:1407] Unable to register cuBLAS factory: Attempting to register factory for plugin cuBLAS when one has already been registered\n",
      "W0000 00:00:1753204554.972126   44241 computation_placer.cc:177] computation placer already registered. Please check linkage and avoid linking the same target more than once.\n",
      "W0000 00:00:1753204554.972191   44241 computation_placer.cc:177] computation placer already registered. Please check linkage and avoid linking the same target more than once.\n",
      "W0000 00:00:1753204554.972193   44241 computation_placer.cc:177] computation placer already registered. Please check linkage and avoid linking the same target more than once.\n",
      "W0000 00:00:1753204554.972194   44241 computation_placer.cc:177] computation placer already registered. Please check linkage and avoid linking the same target more than once.\n",
      "2025-07-22 19:15:55.042432: I tensorflow/core/platform/cpu_feature_guard.cc:210] This TensorFlow binary is optimized to use available CPU instructions in performance-critical operations.\n",
      "To enable the following instructions: AVX2 AVX_VNNI AVX_VNNI_INT8 AVX_NE_CONVERT FMA, in other operations, rebuild TensorFlow with the appropriate compiler flags.\n"
     ]
    }
   ],
   "source": [
    "import pandas as pd\n",
    "from sklearn.model_selection import train_test_split\n",
    "from sklearn.preprocessing import StandardScaler\n",
    "from keras.models import Sequential\n",
    "from keras.layers import SimpleRNN, Dense, Dropout\n",
    "import numpy as np\n",
    "from sklearn.impute import SimpleImputer\n",
    "import os\n",
    "# Load the dataset from folder ../Dataset and merge all CSV files\n",
    "\n",
    "files = [file for file in os.listdir('../Dataset') if file.endswith('.csv')] \n",
    "data = pd.concat(\n",
    "    [pd.read_csv(f'../Dataset/{file}') for file in files]\n",
    ")\n",
    "\n",
    "\n"
   ]
  },
  {
   "cell_type": "markdown",
   "id": "15538f2e",
   "metadata": {},
   "source": [
    "Now we will analyse a bit the dataset we are going to use. The dataset is a csv file that contains network traffic data, with each row representing a network connection and its features.\n",
    "The dataset has also a label that indicates if the connection is normal or if it is an intrusion. The label is in the last column of the dataset."
   ]
  },
  {
   "cell_type": "code",
   "execution_count": 3,
   "id": "2359626a",
   "metadata": {},
   "outputs": [
    {
     "data": {
      "text/plain": [
       "array(['BENIGN', 'FTP-Patator', 'SSH-Patator', 'DDoS',\n",
       "       'Web Attack � Brute Force', 'Web Attack � XSS',\n",
       "       'Web Attack � Sql Injection', 'PortScan', 'DoS slowloris',\n",
       "       'DoS Slowhttptest', 'DoS Hulk', 'DoS GoldenEye', 'Heartbleed',\n",
       "       'Infiltration', 'Bot'], dtype=object)"
      ]
     },
     "execution_count": 3,
     "metadata": {},
     "output_type": "execute_result"
    }
   ],
   "source": [
    "data[\" Label\"].unique()"
   ]
  },
  {
   "cell_type": "markdown",
   "id": "ca33d9ca",
   "metadata": {},
   "source": [
    "We have to clean the dataset due to the presence of NaN values and infinite values. We will use a strategy that replaces infinite values with NaN and then imputes the NaN values with the median of the column.\n",
    "We will use the `SimpleImputer` class from the `sklearn.impute` module"
   ]
  },
  {
   "cell_type": "code",
   "execution_count": null,
   "id": "ad1b8438",
   "metadata": {},
   "outputs": [
    {
     "ename": "NameError",
     "evalue": "name 'data' is not defined",
     "output_type": "error",
     "traceback": [
      "\u001b[31m---------------------------------------------------------------------------\u001b[39m",
      "\u001b[31mNameError\u001b[39m                                 Traceback (most recent call last)",
      "\u001b[36mCell\u001b[39m\u001b[36m \u001b[39m\u001b[32mIn[1]\u001b[39m\u001b[32m, line 1\u001b[39m\n\u001b[32m----> \u001b[39m\u001b[32m1\u001b[39m feature_columns = \u001b[43mdata\u001b[49m.drop(columns=[\u001b[33m\"\u001b[39m\u001b[33m Label\u001b[39m\u001b[33m\"\u001b[39m]).columns\n\u001b[32m      2\u001b[39m X_temp = data[feature_columns]\n\u001b[32m      3\u001b[39m y_temp = data[\u001b[33m\"\u001b[39m\u001b[33m Label\u001b[39m\u001b[33m\"\u001b[39m]\n",
      "\u001b[31mNameError\u001b[39m: name 'data' is not defined"
     ]
    }
   ],
   "source": [
    "\n",
    "feature_columns = data.drop(columns=[\" Label\"]).columns\n",
    "X_temp = data[feature_columns]\n",
    "y_temp = data[\" Label\"]\n",
    "\n",
    "print(f\"Shape features: {X_temp.shape}\")\n",
    "print(f\"Shape label: {y_temp.shape}\")\n",
    "print(f\"data types in features: {X_temp.dtypes.value_counts()}\")\n",
    "\n",
    "X_temp = X_temp.replace([np.inf, -np.inf], np.nan)\n",
    "\n",
    "print(f\"NaN in features: {X_temp.isnull().sum().sum()}\")\n",
    "\n",
    "imputer = SimpleImputer(strategy='median')\n",
    "X_imputed = pd.DataFrame(\n",
    "    imputer.fit_transform(X_temp), \n",
    "    columns=X_temp.columns, \n",
    "    index=X_temp.index\n",
    ")\n",
    "\n",
    "print(f\"NaN after imputing: {X_imputed.isnull().sum().sum()}\")\n",
    "\n",
    "data_clean = X_imputed\n",
    "data_clean[\" Label\"] = y_temp  \n",
    "\n",
    "data_clean[\" Label\"] = data_clean[\" Label\"].replace({\n",
    "    \"BENIGN\": 0,\n",
    "    \"FTP-Patator\": 1,\n",
    "    \"SSH-Patator\": 2,\n",
    "    \"DDoS\": 3,\n",
    "    \"Web Attack � Brute Force\": 4,\n",
    "    \"Web Attack � XSS\": 5,\n",
    "    \"Web Attack � Sql Injection\": 6,\n",
    "    \"PortScan\": 7,\n",
    "    \"DoS slowloris\": 8,\n",
    "    \"DoS Slowhttptest\": 9,\n",
    "    \"DoS Hulk\": 10,\n",
    "    \"DoS GoldenEye\": 11,\n",
    "    \"Heartbleed\": 12,\n",
    "    \"Infiltration\": 13,\n",
    "    \"Bot\": 14\n",
    "})\n",
    "\n",
    "data = data_clean.copy()\n",
    "\n",
    "print(f\"Final shape: {data.shape}\")\n",
    "print(\"Unique labels after conversion:\", data[\" Label\"].unique())"
   ]
  },
  {
   "cell_type": "code",
   "execution_count": null,
   "id": "186662f1",
   "metadata": {},
   "outputs": [
    {
     "name": "stdout",
     "output_type": "stream",
     "text": [
      "Distribuzione delle classi:\n"
     ]
    },
    {
     "ename": "NameError",
     "evalue": "name 'data' is not defined",
     "output_type": "error",
     "traceback": [
      "\u001b[31m---------------------------------------------------------------------------\u001b[39m",
      "\u001b[31mNameError\u001b[39m                                 Traceback (most recent call last)",
      "\u001b[36mCell\u001b[39m\u001b[36m \u001b[39m\u001b[32mIn[1]\u001b[39m\u001b[32m, line 2\u001b[39m\n\u001b[32m      1\u001b[39m \u001b[38;5;28mprint\u001b[39m(\u001b[33m\"\u001b[39m\u001b[33mDistribuzione delle classi:\u001b[39m\u001b[33m\"\u001b[39m)\n\u001b[32m----> \u001b[39m\u001b[32m2\u001b[39m \u001b[38;5;28mprint\u001b[39m(\u001b[43mdata\u001b[49m[\u001b[33m\"\u001b[39m\u001b[33m Label\u001b[39m\u001b[33m\"\u001b[39m].value_counts())\n\u001b[32m      3\u001b[39m \u001b[38;5;28mprint\u001b[39m(\u001b[33mf\u001b[39m\u001b[33m\"\u001b[39m\u001b[38;5;130;01m\\n\u001b[39;00m\u001b[33mPercentuale di classe 0 (attacchi): \u001b[39m\u001b[38;5;132;01m{\u001b[39;00m(data[\u001b[33m'\u001b[39m\u001b[33m Label\u001b[39m\u001b[33m'\u001b[39m]\u001b[38;5;250m \u001b[39m==\u001b[38;5;250m \u001b[39m\u001b[32m0\u001b[39m).mean()\u001b[38;5;132;01m:\u001b[39;00m\u001b[33m.4f\u001b[39m\u001b[38;5;132;01m}\u001b[39;00m\u001b[33m\"\u001b[39m)\n\u001b[32m      4\u001b[39m \u001b[38;5;28mprint\u001b[39m(\u001b[33mf\u001b[39m\u001b[33m\"\u001b[39m\u001b[33mPercentuale di classe 1 (BENIGN): \u001b[39m\u001b[38;5;132;01m{\u001b[39;00m(data[\u001b[33m'\u001b[39m\u001b[33m Label\u001b[39m\u001b[33m'\u001b[39m]\u001b[38;5;250m \u001b[39m==\u001b[38;5;250m \u001b[39m\u001b[32m1\u001b[39m).mean()\u001b[38;5;132;01m:\u001b[39;00m\u001b[33m.4f\u001b[39m\u001b[38;5;132;01m}\u001b[39;00m\u001b[33m\"\u001b[39m)\n",
      "\u001b[31mNameError\u001b[39m: name 'data' is not defined"
     ]
    }
   ],
   "source": [
    "print(\"Class distribution:\")\n",
    "print(data[\" Label\"].value_counts())\n",
    "print(f\"\\nPercentage of class BENIGN : {(data[' Label'] == 0).mean():.4f}\")\n",
    "print(f\"Percentage of class Attack: {(data[' Label'] != 0).mean():.4f}\")\n",
    "print(f\"\\nShape of the dataset: {data.shape}\")\n",
    "print(f\"Number of features: {data.shape[1] - 1}\")  # -1 to exclude the label"
   ]
  },
  {
   "cell_type": "markdown",
   "id": "658dab32",
   "metadata": {},
   "source": [
    "Now we split the dataset into training and testing sets. and then we will create a RNN model."
   ]
  },
  {
   "cell_type": "code",
   "execution_count": 6,
   "id": "46d90693",
   "metadata": {},
   "outputs": [
    {
     "name": "stderr",
     "output_type": "stream",
     "text": [
      "/home/fede/py/michela/DeepLearning/.venv/lib/python3.12/site-packages/keras/src/layers/rnn/rnn.py:199: UserWarning: Do not pass an `input_shape`/`input_dim` argument to a layer. When using Sequential models, prefer using an `Input(shape)` object as the first layer in the model instead.\n",
      "  super().__init__(**kwargs)\n"
     ]
    },
    {
     "name": "stdout",
     "output_type": "stream",
     "text": [
      "Epoch 1/10\n",
      "\u001b[1m56615/56615\u001b[0m \u001b[32m━━━━━━━━━━━━━━━━━━━━\u001b[0m\u001b[37m\u001b[0m \u001b[1m128s\u001b[0m 2ms/step - accuracy: 0.9534 - loss: 0.1449 - val_accuracy: 0.9755 - val_loss: 0.0588\n",
      "Epoch 2/10\n",
      "\u001b[1m56615/56615\u001b[0m \u001b[32m━━━━━━━━━━━━━━━━━━━━\u001b[0m\u001b[37m\u001b[0m \u001b[1m128s\u001b[0m 2ms/step - accuracy: 0.9534 - loss: 0.1449 - val_accuracy: 0.9755 - val_loss: 0.0588\n",
      "Epoch 2/10\n",
      "\u001b[1m56615/56615\u001b[0m \u001b[32m━━━━━━━━━━━━━━━━━━━━\u001b[0m\u001b[37m\u001b[0m \u001b[1m124s\u001b[0m 2ms/step - accuracy: 0.9707 - loss: 0.0745 - val_accuracy: 0.9774 - val_loss: 0.0555\n",
      "Epoch 3/10\n",
      "\u001b[1m56615/56615\u001b[0m \u001b[32m━━━━━━━━━━━━━━━━━━━━\u001b[0m\u001b[37m\u001b[0m \u001b[1m124s\u001b[0m 2ms/step - accuracy: 0.9707 - loss: 0.0745 - val_accuracy: 0.9774 - val_loss: 0.0555\n",
      "Epoch 3/10\n",
      "\u001b[1m56615/56615\u001b[0m \u001b[32m━━━━━━━━━━━━━━━━━━━━\u001b[0m\u001b[37m\u001b[0m \u001b[1m130s\u001b[0m 2ms/step - accuracy: 0.9734 - loss: 0.0689 - val_accuracy: 0.9808 - val_loss: 0.0531\n",
      "Epoch 4/10\n",
      "\u001b[1m56615/56615\u001b[0m \u001b[32m━━━━━━━━━━━━━━━━━━━━\u001b[0m\u001b[37m\u001b[0m \u001b[1m130s\u001b[0m 2ms/step - accuracy: 0.9734 - loss: 0.0689 - val_accuracy: 0.9808 - val_loss: 0.0531\n",
      "Epoch 4/10\n",
      "\u001b[1m56615/56615\u001b[0m \u001b[32m━━━━━━━━━━━━━━━━━━━━\u001b[0m\u001b[37m\u001b[0m \u001b[1m123s\u001b[0m 2ms/step - accuracy: 0.9742 - loss: 0.0672 - val_accuracy: 0.9784 - val_loss: 0.0492\n",
      "Epoch 5/10\n",
      "\u001b[1m56615/56615\u001b[0m \u001b[32m━━━━━━━━━━━━━━━━━━━━\u001b[0m\u001b[37m\u001b[0m \u001b[1m123s\u001b[0m 2ms/step - accuracy: 0.9742 - loss: 0.0672 - val_accuracy: 0.9784 - val_loss: 0.0492\n",
      "Epoch 5/10\n",
      "\u001b[1m56615/56615\u001b[0m \u001b[32m━━━━━━━━━━━━━━━━━━━━\u001b[0m\u001b[37m\u001b[0m \u001b[1m121s\u001b[0m 2ms/step - accuracy: 0.9756 - loss: 0.0686 - val_accuracy: 0.9801 - val_loss: 0.0484\n",
      "Epoch 6/10\n",
      "\u001b[1m56615/56615\u001b[0m \u001b[32m━━━━━━━━━━━━━━━━━━━━\u001b[0m\u001b[37m\u001b[0m \u001b[1m121s\u001b[0m 2ms/step - accuracy: 0.9756 - loss: 0.0686 - val_accuracy: 0.9801 - val_loss: 0.0484\n",
      "Epoch 6/10\n",
      "\u001b[1m56615/56615\u001b[0m \u001b[32m━━━━━━━━━━━━━━━━━━━━\u001b[0m\u001b[37m\u001b[0m \u001b[1m119s\u001b[0m 2ms/step - accuracy: 0.9761 - loss: 0.0668 - val_accuracy: 0.9845 - val_loss: 0.0479\n",
      "Epoch 7/10\n",
      "\u001b[1m56615/56615\u001b[0m \u001b[32m━━━━━━━━━━━━━━━━━━━━\u001b[0m\u001b[37m\u001b[0m \u001b[1m119s\u001b[0m 2ms/step - accuracy: 0.9761 - loss: 0.0668 - val_accuracy: 0.9845 - val_loss: 0.0479\n",
      "Epoch 7/10\n",
      "\u001b[1m56615/56615\u001b[0m \u001b[32m━━━━━━━━━━━━━━━━━━━━\u001b[0m\u001b[37m\u001b[0m \u001b[1m118s\u001b[0m 2ms/step - accuracy: 0.9768 - loss: 0.0668 - val_accuracy: 0.9793 - val_loss: 0.0515\n",
      "Epoch 8/10\n",
      "\u001b[1m56615/56615\u001b[0m \u001b[32m━━━━━━━━━━━━━━━━━━━━\u001b[0m\u001b[37m\u001b[0m \u001b[1m118s\u001b[0m 2ms/step - accuracy: 0.9768 - loss: 0.0668 - val_accuracy: 0.9793 - val_loss: 0.0515\n",
      "Epoch 8/10\n",
      "\u001b[1m56615/56615\u001b[0m \u001b[32m━━━━━━━━━━━━━━━━━━━━\u001b[0m\u001b[37m\u001b[0m \u001b[1m122s\u001b[0m 2ms/step - accuracy: 0.9771 - loss: 0.0665 - val_accuracy: 0.9745 - val_loss: 0.0522\n",
      "Epoch 9/10\n",
      "\u001b[1m56615/56615\u001b[0m \u001b[32m━━━━━━━━━━━━━━━━━━━━\u001b[0m\u001b[37m\u001b[0m \u001b[1m122s\u001b[0m 2ms/step - accuracy: 0.9771 - loss: 0.0665 - val_accuracy: 0.9745 - val_loss: 0.0522\n",
      "Epoch 9/10\n",
      "\u001b[1m56615/56615\u001b[0m \u001b[32m━━━━━━━━━━━━━━━━━━━━\u001b[0m\u001b[37m\u001b[0m \u001b[1m121s\u001b[0m 2ms/step - accuracy: 0.9771 - loss: 0.0764 - val_accuracy: 0.9842 - val_loss: 0.0464\n",
      "Epoch 10/10\n",
      "\u001b[1m56615/56615\u001b[0m \u001b[32m━━━━━━━━━━━━━━━━━━━━\u001b[0m\u001b[37m\u001b[0m \u001b[1m121s\u001b[0m 2ms/step - accuracy: 0.9771 - loss: 0.0764 - val_accuracy: 0.9842 - val_loss: 0.0464\n",
      "Epoch 10/10\n",
      "\u001b[1m56615/56615\u001b[0m \u001b[32m━━━━━━━━━━━━━━━━━━━━\u001b[0m\u001b[37m\u001b[0m \u001b[1m120s\u001b[0m 2ms/step - accuracy: 0.9773 - loss: 0.0668 - val_accuracy: 0.9828 - val_loss: 0.0493\n",
      "\u001b[1m56615/56615\u001b[0m \u001b[32m━━━━━━━━━━━━━━━━━━━━\u001b[0m\u001b[37m\u001b[0m \u001b[1m120s\u001b[0m 2ms/step - accuracy: 0.9773 - loss: 0.0668 - val_accuracy: 0.9828 - val_loss: 0.0493\n",
      "\u001b[1m17693/17693\u001b[0m \u001b[32m━━━━━━━━━━━━━━━━━━━━\u001b[0m\u001b[37m\u001b[0m \u001b[1m25s\u001b[0m 1ms/step - accuracy: 0.9826 - loss: 0.0490\n",
      "\u001b[1m17693/17693\u001b[0m \u001b[32m━━━━━━━━━━━━━━━━━━━━\u001b[0m\u001b[37m\u001b[0m \u001b[1m25s\u001b[0m 1ms/step - accuracy: 0.9826 - loss: 0.0490\n"
     ]
    }
   ],
   "source": [
    "X = data.drop(columns=[\" Label\"])\n",
    "y = data[\" Label\"]\n",
    "num_classes = len(y.unique())\n",
    "\n",
    "X_train, X_test, y_train, y_test = train_test_split(X, y, test_size=0.2, random_state=42)\n",
    "\n",
    "scaler = StandardScaler()\n",
    "X_train = scaler.fit_transform(X_train)\n",
    "X_test = scaler.transform(X_test)\n",
    "X_train = X_train.reshape((X_train.shape[0], 1, X_train.shape[1]))\n",
    "X_test = X_test.reshape((X_test.shape[0], 1, X_test.shape[1]))\n",
    "model = Sequential()\n",
    "model.add(SimpleRNN(64, activation='relu', input_shape=(1, X_train.shape[2])))\n",
    "model.add(Dropout(0.3))\n",
    "model.add(Dense(32, activation='relu'))\n",
    "model.add(Dropout(0.2))\n",
    "model.add(Dense(num_classes, activation='softmax'))\n",
    "# Compile the model\n",
    "model.compile(\n",
    "    optimizer='adam', \n",
    "    loss='sparse_categorical_crossentropy', \n",
    "    metrics=['accuracy']\n",
    ")\n",
    "# Train the model\n",
    "model.fit(X_train, y_train,\n",
    "            epochs=10,\n",
    "            batch_size=32,\n",
    "            validation_split=0.2\n",
    ")\n",
    "# Evaluate the model\n",
    "loss, accuracy = model.evaluate(X_test, y_test)\n",
    "\n",
    "# Save the model\n",
    "model.save('intrusion_detection_rnn.keras')"
   ]
  }
 ],
 "metadata": {
  "kernelspec": {
   "display_name": ".venv",
   "language": "python",
   "name": "python3"
  },
  "language_info": {
   "codemirror_mode": {
    "name": "ipython",
    "version": 3
   },
   "file_extension": ".py",
   "mimetype": "text/x-python",
   "name": "python",
   "nbconvert_exporter": "python",
   "pygments_lexer": "ipython3",
   "version": "3.12.3"
  }
 },
 "nbformat": 4,
 "nbformat_minor": 5
}
